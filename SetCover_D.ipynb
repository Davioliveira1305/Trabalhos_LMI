{
  "nbformat": 4,
  "nbformat_minor": 0,
  "metadata": {
    "colab": {
      "provenance": [],
      "mount_file_id": "1TvtiywAtHVvK2Ye4EKHRtAHpEWkZDpvH",
      "authorship_tag": "ABX9TyOkfVg9DmqqyF1IEAGYa1Gi",
      "include_colab_link": true
    },
    "kernelspec": {
      "name": "python3",
      "display_name": "Python 3"
    },
    "language_info": {
      "name": "python"
    }
  },
  "cells": [
    {
      "cell_type": "markdown",
      "metadata": {
        "id": "view-in-github",
        "colab_type": "text"
      },
      "source": [
        "<a href=\"https://colab.research.google.com/github/Davioliveira1305/Trabalhos_LMI/blob/main/SetCover_D.ipynb\" target=\"_parent\"><img src=\"https://colab.research.google.com/assets/colab-badge.svg\" alt=\"Open In Colab\"/></a>"
      ]
    },
    {
      "cell_type": "markdown",
      "source": [
        "# Leitura do arquivo"
      ],
      "metadata": {
        "id": "Z7iAT8ZVNz3l"
      }
    },
    {
      "cell_type": "code",
      "source": [
        "\"\"\"\n",
        "Função para ler a instância, a função retorna o conjunto E contendo os elementos a serem cobertos e\n",
        "uma lista contendo todos os subconjuntos do problema.\n",
        "\"\"\"\n",
        "def leitura(instancia):\n",
        "  with open(f'/content/drive/MyDrive/A1_-_instancias_e_solucoes/instancia{instancia}.txt', 'r') as f:\n",
        "    lista_conjuntos = []\n",
        "    for idx,linha in enumerate(f):\n",
        "      elementos = linha.split()\n",
        "      if idx == 0: # Criando o Conjunto E(elementos a serem cobertos)\n",
        "        E = set()\n",
        "        for i in range(int(elementos[0])):\n",
        "            E.add(i)\n",
        "      if idx == 1:\n",
        "        continue\n",
        "      if idx != 0:\n",
        "        # Cria uma lista contendo os sunconjuntos do problema\n",
        "        lista_conjuntos.append(set(map(int, elementos)))\n",
        "  return E, lista_conjuntos"
      ],
      "metadata": {
        "id": "ZHbLwM24TrJq"
      },
      "execution_count": 25,
      "outputs": []
    },
    {
      "cell_type": "markdown",
      "source": [
        "# Algortimo e Resultados"
      ],
      "metadata": {
        "id": "z-xn9EkdOBbx"
      }
    },
    {
      "cell_type": "code",
      "source": [
        "import time\n",
        "\n",
        "# Funciona para calcular o last de cada Elemento pertencente a E\n",
        "def last(E, lista_conjuntos):\n",
        "  last = dict()\n",
        "  # Cria as chaves do dicionário, que é nada mais que cada elemento a ser coberto\n",
        "  for i in range(len(E)):\n",
        "    last[i] = 0\n",
        "  # Atualiza os valores de last de cada elemento\n",
        "  for index, value in enumerate(lista_conjuntos):\n",
        "    for j in list(value):\n",
        "      if j in last.keys(): last[j] = index\n",
        "  return last\n",
        "\n",
        "\n",
        "# Classe que define o objeto Nó\n",
        "class Node:\n",
        "  def __init__(self, estado, valor, solucao):\n",
        "    self.estado = estado         # Atributo que guarda o estado em que o nó se encontra\n",
        "    self.valor = valor           # Atributo que guarda o valor da função de custo\n",
        "    self.solucao = solucao       # Vetor que armazena a solução\n",
        "\n",
        "def tj(no, iter, d, laste, lista_conjuntos):\n",
        "  if d == 1:\n",
        "    estado = no.estado - lista_conjuntos[iter]\n",
        "    solucao = no.solucao + [d]\n",
        "    valor = 0\n",
        "    for x in solucao:\n",
        "        if x != 0:\n",
        "          valor = valor + 1\n",
        "    return estado, valor, solucao\n",
        "  else:\n",
        "    control = True\n",
        "    for e in no.estado:\n",
        "      if laste[e] <= iter: control = False\n",
        "    if control == True:\n",
        "      solucao = no.solucao + [d]\n",
        "      valor = no.valor\n",
        "    else:\n",
        "      return 0\n",
        "    return no.estado, valor, solucao\n",
        "\n",
        "def cria_camadas(instancia):\n",
        "  E, lista_conjuntos = leitura(instancia)\n",
        "  laste = last(E, lista_conjuntos)\n",
        "  no_inicial = Node(E, 0, [])\n",
        "  dominio = [0, 1]\n",
        "  camada_atual = [no_inicial]\n",
        "  for j in range(0, len(lista_conjuntos)):\n",
        "    proxima_camada = []\n",
        "    for i in camada_atual:\n",
        "      for d in dominio:\n",
        "        if tj(i, j, d, laste, lista_conjuntos) != 0:\n",
        "          estado, valor, solucao = tj(i, j, d, laste, lista_conjuntos)\n",
        "          node = Node(estado, valor, solucao)\n",
        "          for comp in proxima_camada:\n",
        "              if node.estado == comp.estado:\n",
        "                if comp.valor < node.valor:\n",
        "                  node.valor = comp.valor\n",
        "                  node.solucao = comp.solucao\n",
        "          proxima_camada.append(node)\n",
        "    camada_atual = proxima_camada\n",
        "  return camada_atual\n",
        "\n",
        "for instancia in range(1, 5):\n",
        "  tempo_inicial = time.time()\n",
        "  camada = cria_camadas(instancia)\n",
        "  tempo_final = time.time()\n",
        "  tempo_total = tempo_final - tempo_inicial\n",
        "  print(f\"Instância {instancia}, valor da solução = {camada[0].valor}, vetor solução = {camada[0].solucao}, tempo de execução = {tempo_total}s\")"
      ],
      "metadata": {
        "colab": {
          "base_uri": "https://localhost:8080/"
        },
        "id": "wCizCaChNvz4",
        "outputId": "8e28dd1c-7983-4f02-fe0d-54d604202dd4"
      },
      "execution_count": 32,
      "outputs": [
        {
          "output_type": "stream",
          "name": "stdout",
          "text": [
            "Instância 1, valor da solução = 3, vetor solução = [0, 0, 1, 0, 1, 1], tempo de execução = 0.008741140365600586s\n",
            "Instância 2, valor da solução = 2, vetor solução = [0, 0, 0, 1, 0, 1], tempo de execução = 0.0027179718017578125s\n",
            "Instância 3, valor da solução = 3, vetor solução = [0, 0, 0, 1, 0, 1, 0, 0, 0, 1], tempo de execução = 0.06647348403930664s\n",
            "Instância 4, valor da solução = 3, vetor solução = [0, 0, 0, 0, 0, 0, 0, 0, 0, 0, 1, 0, 0, 1, 1], tempo de execução = 33.741575956344604s\n"
          ]
        }
      ]
    }
  ]
}